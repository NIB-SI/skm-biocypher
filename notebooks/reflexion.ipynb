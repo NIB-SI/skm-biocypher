{
 "cells": [
  {
   "cell_type": "code",
   "execution_count": 1,
   "id": "1dfd9385-bd76-4bbd-8c19-c37df84c2e50",
   "metadata": {},
   "outputs": [],
   "source": [
    "import os\n",
    "import yaml\n",
    "import pprint\n",
    "import re\n",
    "\n",
    "from IPython.display import display, HTML\n",
    "from dotenv import load_dotenv\n",
    "from pathlib import Path"
   ]
  },
  {
   "cell_type": "code",
   "execution_count": 2,
   "id": "39e5d673-3bba-4cf6-9f64-275b5d242f48",
   "metadata": {},
   "outputs": [],
   "source": [
    "from biochatter.llm_connect import GptConversation\n",
    "from biochatter.kg_langgraph_agent import KGQueryReflexionAgent\n",
    "from biochatter.prompts import BioCypherPromptEngine\n",
    "from biochatter.query_interaction import BioCypherQueryHandler"
   ]
  },
  {
   "cell_type": "code",
   "execution_count": 3,
   "id": "b48927fa-7443-435e-89e3-4d4567a29dbc",
   "metadata": {},
   "outputs": [],
   "source": [
    "def color_str(s, color='black'):\n",
    "    return '<p style=\"color:{}; \">{}</p>'.format(color, s)\n",
    "\n",
    "def code_str(s):\n",
    "    return '<code style=\"background-color: #AAAAAA; padding: 5px;\">{}</code>'.format(s)\n",
    "\n",
    "def print_cypher_and_answer(text: str) -> HTML:\n",
    "    q = code_str(cypher_query.answer)\n",
    "    r = color_str(cypher_query.tool_result, \"green\") \n",
    "    return HTML(f'<div style=\"padding: 5px; border: 1px solid black;\"><h4>Cypher code:</h4>{q}<br><h4>KG result:</h4>{r}</div>')\n"
   ]
  },
  {
   "cell_type": "code",
   "execution_count": 4,
   "id": "912a6655-a93b-4d70-8817-ed51bd088981",
   "metadata": {},
   "outputs": [
    {
     "data": {
      "text/plain": [
       "True"
      ]
     },
     "execution_count": 4,
     "metadata": {},
     "output_type": "execute_result"
    }
   ],
   "source": [
    "dotenv_path = Path('../app.env')\n",
    "load_dotenv(dotenv_path=dotenv_path)"
   ]
  },
  {
   "cell_type": "code",
   "execution_count": 12,
   "id": "0fa05917-c66c-4cd2-a91e-07eebcd7c9d7",
   "metadata": {},
   "outputs": [],
   "source": [
    "schema_dict = yaml.safe_load(Path(\"../config/schema_config.yaml\").read_text())"
   ]
  },
  {
   "cell_type": "code",
   "execution_count": 19,
   "id": "dbec460a-0367-471e-af16-f203515e6e96",
   "metadata": {},
   "outputs": [],
   "source": [
    "def create_conversation():\n",
    "    conversation = GptConversation(model_name=\"gpt-4o\", prompts={})\n",
    "    conversation.set_api_key(os.getenv(\"OPENAI_API_KEY\"), \"SKM-BioChatter\")\n",
    "    return conversation\n",
    "\n",
    "neo4j_connection_args = {\n",
    "    \"host\": \"localhost\",\n",
    "    \"port\": \"7687\",\n",
    "}\n",
    "\n",
    "agent = KGQueryReflexionAgent(\n",
    "    connection_args=neo4j_connection_args,\n",
    "    conversation_factory=create_conversation,\n",
    ")"
   ]
  },
  {
   "cell_type": "code",
   "execution_count": 20,
   "id": "9dc79e06-2f63-473f-88b8-f75da19276f5",
   "metadata": {},
   "outputs": [],
   "source": [
    "prompt_engine = BioCypherPromptEngine(\n",
    "    model_name=\"gpt-3.5-turbo\",\n",
    "    schema_config_or_info_dict=schema_dict,  # the schema definition of our graph\n",
    "    conversation_factory=create_conversation,\n",
    ")"
   ]
  },
  {
   "cell_type": "markdown",
   "id": "7d2cfac1-5e3d-426d-a3a4-2788e3540cc5",
   "metadata": {},
   "source": [
    "### Which functional cluster does the gene NPR1 belong to?"
   ]
  },
  {
   "cell_type": "code",
   "execution_count": 8,
   "id": "2c6bbdac-dc62-426f-a76b-ca8d7f58de1c",
   "metadata": {},
   "outputs": [
    {
     "data": {
      "text/html": [
       "Generate a database query in Cypher that answers the user's question. You can use the following entities: ['FunctionalCluster', 'Gene'], relationships: ['GeneBelongsToFunctionalCluster'], and properties: {'FunctionalCluster': ['name', 'description'], 'Gene': ['name', 'functional_cluster']}. Given the following valid combinations of source, relationship, and target: '(:None)-(:GeneBelongsToFunctionalCluster)->(:None)', generate a Cypher query using one of these combinations. Only return the query, without any additional text, symbols or characters --- just the query statement."
      ],
      "text/plain": [
       "<IPython.core.display.HTML object>"
      ]
     },
     "execution_count": 8,
     "metadata": {},
     "output_type": "execute_result"
    }
   ],
   "source": [
    "question = 'Which functional cluster does the gene NPR1 belong to?'\n",
    "kg_prompt = prompt_engine.generate_query_prompt(question)\n",
    "HTML(kg_prompt)"
   ]
  },
  {
   "cell_type": "code",
   "execution_count": 9,
   "id": "29e26d0a-e1a9-476d-89c0-2df1ad9aed8b",
   "metadata": {
    "scrolled": true
   },
   "outputs": [
    {
     "name": "stderr",
     "output_type": "stream",
     "text": [
      "content='' additional_kwargs={'tool_calls': [{'id': 'call_xj9wEWVvwvjTCoFbudxQ0qU2', 'function': {'a ...\n",
      "\u001b[33m[2025-03-03 15:56:29.465] [neo4ju.read_config]           [WARNING]  No config available, falling back to defaults.\u001b[0m\n",
      "content='{\"query\": \"MATCH (g:Gene {name: \\'NPR1\\'})-[:GeneBelongsToFunctionalCluster]->(fc:Functiona ...\n",
      "content='' additional_kwargs={'tool_calls': [{'id': 'call_hr72SNF3xXAsFl2OgAUqYBDw', 'function': {'a ...\n"
     ]
    },
    {
     "data": {
      "text/html": [
       "<div style=\"padding: 5px; border: 1px solid black;\"><h4>Cypher code:</h4><code style=\"background-color: #AAAAAA; padding: 5px;\">MATCH (g:Gene {name: 'NPR1'})-[:GeneBelongsToFunctionalCluster]->(fc:FunctionalCluster) RETURN fc.name</code><br><h4>KG result:</h4><p style=\"color:green; \">[{'fc.name': 'NPR1'}]</p></div>"
      ],
      "text/plain": [
       "<IPython.core.display.HTML object>"
      ]
     },
     "execution_count": 9,
     "metadata": {},
     "output_type": "execute_result"
    }
   ],
   "source": [
    "cypher_query = agent.execute(question, kg_prompt)\n",
    "print_cypher_and_answer(cypher_query)"
   ]
  },
  {
   "cell_type": "markdown",
   "id": "e7507362-7ac7-47e8-b8e8-31b33bdeaea9",
   "metadata": {},
   "source": [
    "### What is the TAIR identifier of MYC2?"
   ]
  },
  {
   "cell_type": "code",
   "execution_count": 10,
   "id": "73f4757d",
   "metadata": {},
   "outputs": [
    {
     "data": {
      "text/html": [
       "Generate a database query in Cypher that answers the user's question. You can use the following entities: ['FunctionalCluster', 'Gene', 'Gene'], relationships: ['GeneBelongsToFunctionalCluster', 'GeneToOrganism'], and properties: {'Gene': {'name': None, 'tair': None}}. Given the following valid combinations of source, relationship, and target: '(:None)-(:GeneBelongsToFunctionalCluster)->(:None)', '(:None)-(:GeneBelongsToFunctionalCluster)->(:None)', '(:None)-(:GeneToOrganism)->(:None)', generate a Cypher query using one of these combinations. Only return the query, without any additional text, symbols or characters --- just the query statement."
      ],
      "text/plain": [
       "<IPython.core.display.HTML object>"
      ]
     },
     "execution_count": 10,
     "metadata": {},
     "output_type": "execute_result"
    }
   ],
   "source": [
    "question = 'What is the TAIR identifier of the gene MYC2?'\n",
    "kg_prompt = prompt_engine.generate_query_prompt(question)\n",
    "HTML(kg_prompt)"
   ]
  },
  {
   "cell_type": "code",
   "execution_count": 11,
   "id": "fd5cfff5",
   "metadata": {
    "scrolled": true
   },
   "outputs": [
    {
     "name": "stderr",
     "output_type": "stream",
     "text": [
      "content='' additional_kwargs={'tool_calls': [{'id': 'call_47rjLlen6SwF2touYee9YPba', 'function': {'a ...\n",
      "content='{\"query\": \"MATCH (g:Gene {name: \\'MYC2\\'})-[:GeneBelongsToFunctionalCluster]->(fc:Functiona ...\n",
      "content='' additional_kwargs={'tool_calls': [{'id': 'call_qdgCpQfbK3yn6ZoljalY6jb5', 'function': {'a ...\n",
      "content='{\"query\": \"MATCH (g:Gene {name: \\'MYC2\\'})-[:GeneBelongsToFunctionalCluster]->(fc) RETURN f ...\n",
      "content='' additional_kwargs={'tool_calls': [{'id': 'call_dcH0whELPQXGTllwr8drCQQ5', 'function': {'a ...\n",
      "content='{\"query\": \"MATCH (g:Gene {name: \\'MYC2\\'})-[:GeneBelongsToFunctionalCluster]->(fc) RETURN f ...\n",
      "content='' additional_kwargs={'tool_calls': [{'id': 'call_dBytRlbGvOz9CQJYQPPNXAfx', 'function': {'a ...\n",
      "content='{\"query\": \"MATCH (g:Gene {name: \\'MYC2\\'})-[:GeneBelongsToFunctionalCluster]->(fc) RETURN f ...\n",
      "content='' additional_kwargs={'tool_calls': [{'id': 'call_w6QjdTCgmkdhYnVKWrOH2zjQ', 'function': {'a ...\n",
      "content='{\"query\": \"MATCH (g:Gene {name: \\'MYC2\\'})-[:GeneBelongsToFunctionalCluster]->(fc) RETURN f ...\n",
      "content='' additional_kwargs={'tool_calls': [{'id': 'call_C3gBYbzATtq7RRAVxyvhz6d9', 'function': {'a ...\n",
      "content='{\"query\": \"MATCH (g:Gene {name: \\'MYC2\\'})-[:GeneBelongsToFunctionalCluster]->(fc) RETURN f ...\n",
      "content='' additional_kwargs={'tool_calls': [{'id': 'call_Sqsqj6xQAIEFeqE1dedcLJrh', 'function': {'a ...\n",
      "content='{\"query\": \"MATCH (g:Gene {name: \\'MYC2\\'})-[:GeneBelongsToFunctionalCluster]->(fc) RETURN f ...\n",
      "content='' additional_kwargs={'tool_calls': [{'id': 'call_Hn9wAlLfgUvXMCfDxvVKEy0P', 'function': {'a ...\n",
      "content='{\"query\": \"MATCH (g:Gene {name: \\'MYC2\\'})-[:GeneBelongsToFunctionalCluster]->(fc) RETURN f ...\n",
      "content='' additional_kwargs={'tool_calls': [{'id': 'call_B9woeLY9MeBcXDC1frGuHym1', 'function': {'a ...\n",
      "content='{\"query\": \"MATCH (g:Gene {name: \\'MYC2\\'})-[:GeneBelongsToFunctionalCluster]->(fc) RETURN f ...\n",
      "content='' additional_kwargs={'tool_calls': [{'id': 'call_gefMnqaS4NXqWjWsBIWFxMxK', 'function': {'a ...\n",
      "content='{\"query\": \"MATCH (g:Gene {name: \\'MYC2\\'})-[:GeneBelongsToFunctionalCluster]->(fc) RETURN f ...\n",
      "content='' additional_kwargs={'tool_calls': [{'id': 'call_xIW523nHlnxgU0w5HnGLm4RB', 'function': {'a ...\n"
     ]
    },
    {
     "data": {
      "text/html": [
       "<div style=\"padding: 5px; border: 1px solid black;\"><h4>Cypher code:</h4><code style=\"background-color: #AAAAAA; padding: 5px;\">MATCH (g:Gene {name: 'MYC2'})-[:GeneBelongsToFunctionalCluster]->(fc) RETURN fc.tair</code><br><h4>KG result:</h4><p style=\"color:green; \">[{'fc.tair': None}]</p></div>"
      ],
      "text/plain": [
       "<IPython.core.display.HTML object>"
      ]
     },
     "execution_count": 11,
     "metadata": {},
     "output_type": "execute_result"
    }
   ],
   "source": [
    "cypher_query = agent.execute(question, kg_prompt)\n",
    "print_cypher_and_answer(cypher_query)"
   ]
  },
  {
   "cell_type": "markdown",
   "id": "9ade07c1-b635-4a42-a6fa-2a6e20d15c4f",
   "metadata": {},
   "source": [
    "### Which functional cluster does the gene with tair identifier AT1G64280 belong to?"
   ]
  },
  {
   "cell_type": "code",
   "execution_count": 10,
   "id": "9fd6a87e-d722-4b92-9b3f-51ef77a6c345",
   "metadata": {},
   "outputs": [
    {
     "data": {
      "text/html": [
       "Generate a database query in Cypher that answers the user's question. You can use the following entities: ['FunctionalCluster', 'Gene', 'FunctionalCluster', 'Gene'], relationships: ['GeneToFunctionalCluster'], and properties: {'FunctionalCluster': ['name', 'description', 'url'], 'Gene': ['name', 'tair']}. Given the following valid combinations of source, relationship, and target: '(:None)-(:GeneToFunctionalCluster)->(:None)', '(:None)-(:GeneToFunctionalCluster)->(:None)', generate a Cypher query using one of these combinations. Only return the query, without any additional text, symbols or characters --- just the query statement."
      ],
      "text/plain": [
       "<IPython.core.display.HTML object>"
      ]
     },
     "execution_count": 10,
     "metadata": {},
     "output_type": "execute_result"
    }
   ],
   "source": [
    "question = 'Which functional cluster does the gene with tair identifier AT1G64280 belong to?'\n",
    "kg_prompt = prompt_engine.generate_query_prompt(question)\n",
    "HTML(kg_prompt)"
   ]
  },
  {
   "cell_type": "code",
   "execution_count": 11,
   "id": "e65690a5-a66b-4ece-8d24-c88288412056",
   "metadata": {
    "scrolled": true
   },
   "outputs": [
    {
     "name": "stderr",
     "output_type": "stream",
     "text": [
      "content='' additional_kwargs={'tool_calls': [{'id': 'call_n5xrzrnkUK54CiJvewXXSvSN', 'function': {'a ...\n",
      "content='{\"query\": \"MATCH (g:Gene {tair: \\'AT1G64280\\'})-[:GeneToFunctionalCluster]->(fc:FunctionalC ...\n",
      "content='' additional_kwargs={'tool_calls': [{'id': 'call_soJvmTKXxycoZrPEeEmmJWoD', 'function': {'a ...\n"
     ]
    },
    {
     "data": {
      "text/html": [
       "<div style=\"padding: 5px; border: 1px solid black;\"><h4>Cypher code:</h4><code style=\"background-color: #AAAAAA; padding: 5px;\">MATCH (g:Gene {tair: 'AT1G64280'})-[:GeneToFunctionalCluster]->(fc:FunctionalCluster) RETURN fc.name</code><br><h4>KG result:</h4><p style=\"color:green; \">[{'fc.name': 'NPR1'}]</p></div>"
      ],
      "text/plain": [
       "<IPython.core.display.HTML object>"
      ]
     },
     "execution_count": 11,
     "metadata": {},
     "output_type": "execute_result"
    }
   ],
   "source": [
    "cypher_query = agent.execute(question, kg_prompt)\n",
    "print_cypher_and_answer(cypher_query)"
   ]
  },
  {
   "cell_type": "markdown",
   "id": "911108bd-0f2e-4083-aa73-52a25c70ce6f",
   "metadata": {},
   "source": [
    "### In which pathways is the phytohormone ET involved?"
   ]
  },
  {
   "cell_type": "code",
   "execution_count": 35,
   "id": "323ab101",
   "metadata": {},
   "outputs": [
    {
     "data": {
      "text/html": [
       "Generate a database query in Cypher that answers the user's question. You can use the following entities: ['Pathway', 'Metabolite', 'Pathway', 'Metabolite'], relationships: ['InPathway'], and properties: {'Pathway': {'name': None}, 'Metabolite': {'name': 'ET'}}. Given the following valid combinations of source, relationship, and target: '(:functional cluster)-(:GeneToFunctionalCluster)->(:gene)', '(:functional cluster)-(:GeneToFunctionalCluster)->(:gene)', '(:functional cluster)-(:TranscriptionalInhibition)->(:functional cluster)', '(:functional cluster)-(:TranscriptionalInhibition)->(:functional cluster)', '(:functional cluster)-(:TranscriptionalInhibition)->(:functional cluster)', '(:functional cluster)-(:TranscriptionalInhibition)->(:functional cluster)', '(:functional cluster)-(:TranscriptionalInhibition)->(:functional cluster)', '(:functional cluster)-(:TranscriptionalActivation)->(:functional cluster)', '(:functional cluster)-(:TranscriptionalActivation)->(:functional cluster)', '(:functional cluster)-(:TranscriptionalActivation)->(:functional cluster)', '(:functional cluster)-(:TranscriptionalActivation)->(:functional cluster)', '(:functional cluster)-(:TranscriptionalActivation)->(:functional cluster)', '(:functional cluster)-(:GeneBelongsToFunctionalCluster)->(:gene)', '(:functional cluster)-(:GeneBelongsToFunctionalCluster)->(:gene)', '(:functional cluster)-(:GeneBelongsToFunctionalCluster)->(:gene)', '(:None)-(:InPathway)->(:None)', '(:None)-(:InPathway)->(:None)', generate a Cypher query using one of these combinations. Only return the query, without any additional text, symbols or characters --- just the query statement."
      ],
      "text/plain": [
       "<IPython.core.display.HTML object>"
      ]
     },
     "execution_count": 35,
     "metadata": {},
     "output_type": "execute_result"
    }
   ],
   "source": [
    "question = 'In which pathways is ET involved?'\n",
    "kg_prompt = prompt_engine.generate_query_prompt(question)\n",
    "HTML(kg_prompt)"
   ]
  },
  {
   "cell_type": "code",
   "execution_count": 36,
   "id": "288cc162",
   "metadata": {
    "scrolled": true
   },
   "outputs": [
    {
     "name": "stderr",
     "output_type": "stream",
     "text": [
      "content='' additional_kwargs={'tool_calls': [{'id': 'call_x6QTCSymebhsZCjeRIcYWIQr', 'function': {'a ...\n",
      "content='{\"query\": \"MATCH (m:Metabolite {name: \\'ET\\'})-[:InPathway]->(p:Pathway) RETURN p.name LIMI ...\n",
      "content='' additional_kwargs={'tool_calls': [{'id': 'call_vFrPnBADSV6kXxCgx3tpmlyp', 'function': {'a ...\n",
      "content='{\"query\": \"MATCH (m:Metabolite {name: \\'ET\\'})-->(p:Pathway) RETURN p.name LIMIT 30\", \"resu ...\n",
      "content='' additional_kwargs={'tool_calls': [{'id': 'call_1ltBS5miYPN032W7qEb80IBa', 'function': {'a ...\n",
      "content='{\"query\": \"MATCH (m:Metabolite {name: \\'ET\\'})--(p:Pathway) RETURN p.name LIMIT 30\", \"resul ...\n",
      "content='' additional_kwargs={'tool_calls': [{'id': 'call_NejsmEelvKTQfC7tyI78aAPD', 'function': {'a ...\n",
      "content='{\"query\": \"MATCH (m:Metabolite)-[r]-(p:Pathway) WHERE m.name CONTAINS \\'ET\\' RETURN p.name  ...\n",
      "content='' additional_kwargs={'tool_calls': [{'id': 'call_sBluAEtRaIyWEBoIvZ6yywip', 'function': {'a ...\n",
      "content='{\"query\": \"MATCH (m:Metabolite)-[r]-(p:Pathway) WHERE toLower(m.name) CONTAINS \\'et\\' RETUR ...\n",
      "content='' additional_kwargs={'tool_calls': [{'id': 'call_JYrNYFtyl02yCxzboR2bSxZY', 'function': {'a ...\n",
      "content='{\"query\": \"MATCH (m:Metabolite)-[r]-(p:Pathway) RETURN p.name LIMIT 30\", \"result\": []}' too ...\n",
      "content='' additional_kwargs={'tool_calls': [{'id': 'call_xVEzQdtuMjD6AIn2jBomR77P', 'function': {'a ...\n",
      "content='{\"query\": \"MATCH (p:Pathway) RETURN p.name LIMIT 30\", \"result\": [{\"p.name\": \"Hormone - Sali ...\n",
      "content='' additional_kwargs={'tool_calls': [{'id': 'call_oPg7AETsRjRUR2DdgQscUsfE', 'function': {'a ...\n"
     ]
    },
    {
     "data": {
      "text/html": [
       "<div style=\"padding: 5px; border: 1px solid black;\"><h4>Cypher code:</h4><code style=\"background-color: #AAAAAA; padding: 5px;\">MATCH (m:Metabolite)-[r]-(p:Pathway) WHERE p.name CONTAINS 'Ethylene' RETURN p.name LIMIT 30</code><br><h4>KG result:</h4><p style=\"color:green; \">[{'p.name': 'Hormone - Salicylic acid (SA)'}, {'p.name': 'Signalling - Perception and resistance genes'}, {'p.name': 'Signalling - Tuberisation'}, {'p.name': 'Hormone - Abscisic acid (ABA)'}, {'p.name': 'Hormone - Auxins (AUX)'}, {'p.name': 'Hormone - Ethylene (ET)'}, {'p.name': 'Signalling - Phospho-inosytol-phosphate (PIP)'}, {'p.name': 'Hormone - Cytokinins (CK)'}, {'p.name': 'Hormone - Jasmonate (JA)'}, {'p.name': 'Stress - Heat'}, {'p.name': 'Signalling - Senescence'}, {'p.name': 'Signalling - Heat-shock proteins (HSPs)'}, {'p.name': 'Signalling - Calcium'}, {'p.name': 'Hormone - Gibberellin (GA)'}, {'p.name': 'Degradation - Autophagy'}, {'p.name': 'Signalling - Reactive oxygen species (ROS)'}, {'p.name': 'Secondary metabolism - Terpenoids'}, {'p.name': 'Regulation - Silencing'}, {'p.name': 'Primary metabolism - Photosynthesis'}, {'p.name': 'Stress - Drought'}, {'p.name': 'Regulation - Transcription & Translation'}, {'p.name': 'Signalling - Growth'}, {'p.name': 'Signalling - MAP kinases (MAPKs)'}, {'p.name': 'Hormone - Strigolactones (SL)'}, {'p.name': 'Secondary metabolism - Anthocyanins'}, {'p.name': 'Degradation - Ubiquitination'}, {'p.name': 'Primary metabolism - Respiration'}, {'p.name': 'Stress - Biotic'}, {'p.name': 'Hormone - Brassinosteroids (BS)'}, {'p.name': 'Primary metabolism - Amino-acids'}]</p></div>"
      ],
      "text/plain": [
       "<IPython.core.display.HTML object>"
      ]
     },
     "execution_count": 36,
     "metadata": {},
     "output_type": "execute_result"
    }
   ],
   "source": [
    "cypher_query = agent.execute(question, kg_prompt)\n",
    "print_cypher_and_answer(cypher_query)"
   ]
  },
  {
   "cell_type": "markdown",
   "id": "f9592f96-3722-4e71-8e77-2bd962ba754d",
   "metadata": {},
   "source": [
    "### Which functional clusters does MYC2 interact with?\n"
   ]
  },
  {
   "cell_type": "code",
   "execution_count": 42,
   "id": "93e7c632",
   "metadata": {},
   "outputs": [
    {
     "data": {
      "text/html": [
       "Generate a database query in Cypher that answers the user's question. You can use the following entities: ['Pathway', 'Metabolite', 'Pathway', 'Metabolite', 'Pathway', 'Metabolite', 'FunctionalCluster', 'Gene', 'FunctionalCluster'], relationships: ['InPathway', 'GeneBelongsToFunctionalCluster'], and properties: {'FunctionalCluster': {'name': 'MYC2'}}. Given the following valid combinations of source, relationship, and target: '(:functional cluster)-(:GeneToFunctionalCluster)->(:gene)', '(:functional cluster)-(:GeneToFunctionalCluster)->(:gene)', '(:functional cluster)-(:TranscriptionalInhibition)->(:functional cluster)', '(:functional cluster)-(:TranscriptionalInhibition)->(:functional cluster)', '(:functional cluster)-(:TranscriptionalInhibition)->(:functional cluster)', '(:functional cluster)-(:TranscriptionalInhibition)->(:functional cluster)', '(:functional cluster)-(:TranscriptionalInhibition)->(:functional cluster)', '(:functional cluster)-(:TranscriptionalActivation)->(:functional cluster)', '(:functional cluster)-(:TranscriptionalActivation)->(:functional cluster)', '(:functional cluster)-(:TranscriptionalActivation)->(:functional cluster)', '(:functional cluster)-(:TranscriptionalActivation)->(:functional cluster)', '(:functional cluster)-(:TranscriptionalActivation)->(:functional cluster)', '(:functional cluster)-(:GeneBelongsToFunctionalCluster)->(:gene)', '(:functional cluster)-(:GeneBelongsToFunctionalCluster)->(:gene)', '(:functional cluster)-(:GeneBelongsToFunctionalCluster)->(:gene)', '(:None)-(:GeneBelongsToFunctionalCluster)->(:None)', '(:None)-(:GeneBelongsToFunctionalCluster)->(:None)', '(:None)-(:InPathway)->(:None)', '(:None)-(:InPathway)->(:None)', '(:None)-(:InPathway)->(:None)', '(:None)-(:InPathway)->(:None)', '(:None)-(:InPathway)->(:None)', generate a Cypher query using one of these combinations. Only return the query, without any additional text, symbols or characters --- just the query statement."
      ],
      "text/plain": [
       "<IPython.core.display.HTML object>"
      ]
     },
     "execution_count": 42,
     "metadata": {},
     "output_type": "execute_result"
    }
   ],
   "source": [
    "# question = 'Which functional clusters does MYC2 interact with?'\n",
    "question = 'Which other functional clusters does the MYC2 functional cluster have a molecular interaction with?'\n",
    "kg_prompt = prompt_engine.generate_query_prompt(question)\n",
    "HTML(kg_prompt)"
   ]
  },
  {
   "cell_type": "code",
   "execution_count": 43,
   "id": "c0965095",
   "metadata": {},
   "outputs": [
    {
     "name": "stderr",
     "output_type": "stream",
     "text": [
      "content='' additional_kwargs={'tool_calls': [{'id': 'call_0BXDnCedIfvGkB2PeQHeHhy4', 'function': {'a ...\n",
      "content='{\"query\": \"MATCH (fc1:FunctionalCluster {name: \\'MYC2\\'})-[:TranscriptionalInhibition|:Tran ...\n",
      "content='' additional_kwargs={'tool_calls': [{'id': 'call_gIlLPgR2DdDTTWHuUGPW37Sg', 'function': {'a ...\n"
     ]
    },
    {
     "data": {
      "text/html": [
       "<div style=\"padding: 5px; border: 1px solid black;\"><h4>Cypher code:</h4><code style=\"background-color: #AAAAAA; padding: 5px;\">MATCH (fc1:FunctionalCluster {name: 'MYC2'})-[:TranscriptionalInhibition|:TranscriptionalActivation]->(fc2:FunctionalCluster) RETURN fc2 LIMIT 30</code><br><h4>KG result:</h4><p style=\"color:green; \">[{'fc2': {'additional_information': '', 'name': 'MC', 'preferred_id': 'id', 'description': 'Cysteine proteinase inhibitor', 'id': 'skm:fc00405', 'url': 'https://skm.nib.si/biomine/?functional_cluster_id=fc00405'}}, {'fc2': {'additional_information': '', 'name': 'CPI8', 'preferred_id': 'id', 'description': 'Cysteine protease inhibitor 8', 'id': 'skm:fc00404', 'url': 'https://skm.nib.si/biomine/?functional_cluster_id=fc00404'}}, {'fc2': {'additional_information': 'Encodes a protein with isochorismate synthase activity. Mutants fail to accumulate salicylic acid.', 'name': 'ICS', 'preferred_id': 'id', 'description': 'isochorismate synthase', 'id': 'skm:fc00084', 'url': 'https://skm.nib.si/biomine/?functional_cluster_id=fc00084'}}, {'fc2': {'additional_information': 'Member of the R protein complex. Essential regulator of plant defense, which plays a central role in resistance in case of infection by a pathogen. It is a common target for both type III avirulence proteins from P.syringae (AvrB, AvrRpm1 and AvrRpt2) and for the plant Resistance (R) proteins RPM1 and RPS2.', 'name': 'RIN4', 'preferred_id': 'id', 'description': 'RPM1 interacting protein 4', 'id': 'skm:fc00141', 'url': 'https://skm.nib.si/biomine/?functional_cluster_id=fc00141'}}, {'fc2': {'additional_information': '', 'name': 'MKK4,5', 'preferred_id': 'id', 'description': 'Mitogen-Activated Protein (MAP) kinase kinase 4, 5', 'id': 'skm:fc00295', 'url': 'https://skm.nib.si/biomine/?functional_cluster_id=fc00295'}}, {'fc2': {'additional_information': 'Induced in response to abscisic acid, jasmonic acid, salt, water deficiency and wounding.', 'name': 'VSP', 'preferred_id': 'id', 'description': 'vegetative storage protein', 'id': 'skm:fc00160', 'url': 'https://skm.nib.si/biomine/?functional_cluster_id=fc00160'}}, {'fc2': {'additional_information': 'Encodes a thionin which is a cysteine rich protein having antimicrobial properties. Thi2.1 is expressed in response to a variety of pathogens and induced by ethylene and jasmonic acid. Belongs to the plant thionin (PR-13) family.', 'name': 'PR13', 'preferred_id': 'id', 'description': 'thionin', 'id': 'skm:fc00128', 'url': 'https://skm.nib.si/biomine/?functional_cluster_id=fc00128'}}, {'fc2': {'additional_information': 'Mannose-binding lectin superfamily protein', 'name': 'JR1', 'preferred_id': 'id', 'description': 'jacalin-related lectin 35', 'id': 'skm:fc00090', 'url': 'https://skm.nib.si/biomine/?functional_cluster_id=fc00090'}}, {'fc2': {'additional_information': 'Its expression is induced rapidly by methyljasmonate, a known promoter of senescence and chlorophyll degradation.', 'name': 'CLH', 'preferred_id': 'id', 'description': 'chlorophyllase 1', 'id': 'skm:fc00043', 'url': 'https://skm.nib.si/biomine/?functional_cluster_id=fc00043'}}, {'fc2': {'additional_information': '', 'name': 'JAZ', 'preferred_id': 'id', 'description': 'jasmonate-zim-domain protein', 'id': 'skm:fc00088', 'url': 'https://skm.nib.si/biomine/?functional_cluster_id=fc00088'}}, {'fc2': {'additional_information': 'lipoxygenase', 'name': 'LOX', 'preferred_id': 'id', 'description': 'lipoxygenase', 'id': 'skm:fc00096', 'url': 'https://skm.nib.si/biomine/?functional_cluster_id=fc00096'}}, {'fc2': {'additional_information': 'GA signalling cascade is composed of GA receptors (GIDa/b/c), DELLA repressor proteins and F-box proteins which control the stability of DELLA. Structurally, DELLA belong to the GRAS family of transcriptional regulators, with the DELLA motif (not present in other GRAS family members). Probably acts by participating in large multiprotein complexes that repress transcription of GA-inducible genes. In contrast to RGA, it is less sensitive to GA; The protein undergoes degradation in response to GA via the 26S proteasome. GAI may be involved in reducing ROS accumulation in response to stress by up-regulating the transcription of superoxide dismutases. RGL1 may be involved in reducing ROS accumulation in response to stress by up-regulating the transcription of superoxide dismutases. Rapidly degraded in response to GA. Promotes the biosynthesis of abscisic acid (ABA), especially in seed coats to maintain seed dormancy.', 'name': 'DELLA', 'preferred_id': 'id', 'description': 'GRAS transcription factor family protein', 'id': 'skm:fc00056', 'url': 'https://skm.nib.si/biomine/?functional_cluster_id=fc00056'}}, {'fc2': {'additional_information': '', 'name': 'YUC', 'preferred_id': 'id', 'description': 'flavin-binding monooxygenase family protein', 'id': 'skm:fc00320', 'url': 'https://skm.nib.si/biomine/?functional_cluster_id=fc00320'}}, {'fc2': {'additional_information': '', 'name': 'NAC072', 'preferred_id': 'id', 'description': 'NAC domain containing protein 72', 'id': 'skm:fc00112', 'url': 'https://skm.nib.si/biomine/?functional_cluster_id=fc00112'}}, {'fc2': {'additional_information': '', 'name': 'NAC055', 'preferred_id': 'id', 'description': 'ATAF-like NAC-domain transcription factor', 'id': 'skm:fc00111', 'url': 'https://skm.nib.si/biomine/?functional_cluster_id=fc00111'}}, {'fc2': {'additional_information': '', 'name': 'NAC019', 'preferred_id': 'id', 'description': 'NAC domain containing protein 19', 'id': 'skm:fc00109', 'url': 'https://skm.nib.si/biomine/?functional_cluster_id=fc00109'}}, {'fc2': {'additional_information': '', 'name': 'PEPR', 'preferred_id': 'id', 'description': 'PEP receptor', 'id': 'skm:fc00298', 'url': 'https://skm.nib.si/biomine/?functional_cluster_id=fc00298'}}, {'fc2': {'additional_information': 'ORA59 is the master regulator of the jasmonic acid-ET-induced defense program; class II TGAs at the ORA59 promoter constitute an important regulatory hub for the activation and SA suppression of ACC-induced genes.', 'name': 'ORA59', 'preferred_id': 'id', 'description': 'octadecanoid-responsive AP2/ERF 59', 'id': 'skm:fc00120', 'url': 'https://skm.nib.si/biomine/?functional_cluster_id=fc00120'}}]</p></div>"
      ],
      "text/plain": [
       "<IPython.core.display.HTML object>"
      ]
     },
     "execution_count": 43,
     "metadata": {},
     "output_type": "execute_result"
    }
   ],
   "source": [
    "cypher_query = agent.execute(question, kg_prompt)\n",
    "print_cypher_and_answer(cypher_query)"
   ]
  },
  {
   "cell_type": "markdown",
   "id": "27013f27-6e15-49f7-abf4-110cd60c8b1d",
   "metadata": {},
   "source": [
    "### Which genes does MYC2 transcriptionally regulate?"
   ]
  },
  {
   "cell_type": "code",
   "execution_count": 68,
   "id": "5f6da0c9",
   "metadata": {},
   "outputs": [
    {
     "data": {
      "text/html": [
       "Generate a database query in Cypher that answers the user's question. You can use the following entities: ['FunctionalCluster', 'Gene', 'FunctionalCluster', 'Gene', 'Gene', 'Gene', 'BiologicalProcess', 'Gene', 'Gene', 'Gene', 'Gene'], relationships: ['GeneToFunctionalCluster', 'TranscriptionalActivation', 'TranscriptionalInhibition'], and properties: {'Gene': ['name', 'description', 'synonyms', 'url', 'tair'], 'TranscriptionalActivation': ['reaction_identifier', 'url', 'references', 'causal_mechanism'], 'TranscriptionalInhibition': ['reaction_identifier', 'url', 'references', 'causal_mechanism']}. Given the following valid combinations of source, relationship, and target: '(:None)-(:GeneToFunctionalCluster)->(:None)', '(:None)-(:GeneToFunctionalCluster)->(:None)', '(:None)-(:GeneToFunctionalCluster)->(:None)', '(:None)-(:GeneToFunctionalCluster)->(:None)', '(:None)-(:GeneToFunctionalCluster)->(:None)', '(:functional cluster)-(:GeneToFunctionalCluster)->(:gene)', '(:functional cluster)-(:GeneToFunctionalCluster)->(:gene)', '(:functional cluster)-(:GeneToFunctionalCluster)->(:gene)', '(:functional cluster)-(:GeneToFunctionalCluster)->(:gene)', '(:functional cluster)-(:GeneToFunctionalCluster)->(:gene)', '(:None)-(:GeneToFunctionalCluster)->(:None)', '(:None)-(:GeneToFunctionalCluster)->(:None)', '(:None)-(:GeneToFunctionalCluster)->(:None)', '(:None)-(:TranscriptionalActivation)->(:None)', '(:None)-(:TranscriptionalActivation)->(:None)', '(:None)-(:TranscriptionalActivation)->(:None)', '(:functional cluster)-(:TranscriptionalActivation)->(:functional cluster)', '(:functional cluster)-(:TranscriptionalActivation)->(:functional cluster)', '(:functional cluster)-(:TranscriptionalActivation)->(:functional cluster)', '(:functional cluster)-(:TranscriptionalActivation)->(:functional cluster)', '(:functional cluster)-(:TranscriptionalActivation)->(:functional cluster)', '(:None)-(:TranscriptionalActivation)->(:None)', '(:None)-(:TranscriptionalActivation)->(:None)', '(:None)-(:TranscriptionalActivation)->(:None)', '(:None)-(:TranscriptionalInhibition)->(:None)', '(:None)-(:TranscriptionalInhibition)->(:None)', '(:None)-(:TranscriptionalInhibition)->(:None)', '(:functional cluster)-(:TranscriptionalInhibition)->(:functional cluster)', '(:functional cluster)-(:TranscriptionalInhibition)->(:functional cluster)', '(:functional cluster)-(:TranscriptionalInhibition)->(:functional cluster)', '(:functional cluster)-(:TranscriptionalInhibition)->(:functional cluster)', '(:functional cluster)-(:TranscriptionalInhibition)->(:functional cluster)', '(:None)-(:TranscriptionalInhibition)->(:None)', '(:None)-(:TranscriptionalInhibition)->(:None)', '(:None)-(:TranscriptionalInhibition)->(:None)', generate a Cypher query using one of these combinations. Only return the query, without any additional text, symbols or characters --- just the query statement."
      ],
      "text/plain": [
       "<IPython.core.display.HTML object>"
      ]
     },
     "execution_count": 68,
     "metadata": {},
     "output_type": "execute_result"
    }
   ],
   "source": [
    "question = 'Which genes does MYC2 transcriptionally regulate?'\n",
    "kg_prompt = prompt_engine.generate_query_prompt(question)\n",
    "HTML(kg_prompt)"
   ]
  },
  {
   "cell_type": "code",
   "execution_count": 69,
   "id": "0e1a19ab-b4c7-4169-be61-8d529cae012f",
   "metadata": {},
   "outputs": [
    {
     "name": "stderr",
     "output_type": "stream",
     "text": [
      "content='' additional_kwargs={'tool_calls': [{'id': 'call_gAbAXTc7v3N1sEtBiDQj7fof', 'function': {'a ...\n",
      "content='{\"query\": \"MATCH (g:Gene)-[:TranscriptionalActivation]->(:Gene {name: \\'MYC2\\'}) RETURN g.n ...\n",
      "content='' additional_kwargs={'tool_calls': [{'id': 'call_qT9HHGmxvJ4GjSN0AbKHQpKF', 'function': {'a ...\n"
     ]
    },
    {
     "data": {
      "text/html": [
       "<div style=\"padding: 5px; border: 1px solid black;\"><h4>Cypher code:</h4><code style=\"background-color: #AAAAAA; padding: 5px;\">MATCH (g:Gene)-[:TranscriptionalActivation]->(:Gene {name: 'MYC2'}) RETURN g.name LIMIT 30</code><br><h4>KG result:</h4><p style=\"color:green; \">[]</p></div>"
      ],
      "text/plain": [
       "<IPython.core.display.HTML object>"
      ]
     },
     "execution_count": 69,
     "metadata": {},
     "output_type": "execute_result"
    }
   ],
   "source": [
    "cypher_query = agent.execute(question, kg_prompt)\n",
    "print_cypher_and_answer(cypher_query)"
   ]
  },
  {
   "cell_type": "markdown",
   "id": "86ec89cd-3d4c-4bd5-a62e-bceb81fad0fb",
   "metadata": {},
   "source": [
    "### What proteins regulate MYC2 transcription?"
   ]
  },
  {
   "cell_type": "code",
   "execution_count": 66,
   "id": "f87b6fa0",
   "metadata": {},
   "outputs": [
    {
     "data": {
      "text/html": [
       "Generate a database query in Cypher that answers the user's question. You can use the following entities: ['FunctionalCluster', 'Gene', 'FunctionalCluster', 'Gene', 'Gene', 'Gene', 'BiologicalProcess', 'Gene', 'Gene', 'Gene'], relationships: ['GeneToFunctionalCluster', 'TranscriptionalActivation', 'TranscriptionalInhibition'], and properties: {'Gene': {'name': None, 'description': None, 'synonyms': None, 'gomapman_annotations': None, 'species': None, 'taxon': None, 'type': None, 'url': None, 'tair': None}, 'TranscriptionalActivation': {'reaction_identifier': None, 'url': None, 'references': None, 'causal_mechanism': None}, 'TranscriptionalInhibition': {'reaction_identifier': None, 'url': None, 'references': None, 'causal_mechanism': None}}. Given the following valid combinations of source, relationship, and target: '(:None)-(:GeneToFunctionalCluster)->(:None)', '(:None)-(:GeneToFunctionalCluster)->(:None)', '(:None)-(:GeneToFunctionalCluster)->(:None)', '(:None)-(:GeneToFunctionalCluster)->(:None)', '(:None)-(:GeneToFunctionalCluster)->(:None)', '(:functional cluster)-(:GeneToFunctionalCluster)->(:gene)', '(:functional cluster)-(:GeneToFunctionalCluster)->(:gene)', '(:functional cluster)-(:GeneToFunctionalCluster)->(:gene)', '(:functional cluster)-(:GeneToFunctionalCluster)->(:gene)', '(:functional cluster)-(:GeneToFunctionalCluster)->(:gene)', '(:None)-(:GeneToFunctionalCluster)->(:None)', '(:None)-(:GeneToFunctionalCluster)->(:None)', '(:None)-(:TranscriptionalActivation)->(:None)', '(:None)-(:TranscriptionalActivation)->(:None)', '(:None)-(:TranscriptionalActivation)->(:None)', '(:functional cluster)-(:TranscriptionalActivation)->(:functional cluster)', '(:functional cluster)-(:TranscriptionalActivation)->(:functional cluster)', '(:functional cluster)-(:TranscriptionalActivation)->(:functional cluster)', '(:functional cluster)-(:TranscriptionalActivation)->(:functional cluster)', '(:functional cluster)-(:TranscriptionalActivation)->(:functional cluster)', '(:None)-(:TranscriptionalActivation)->(:None)', '(:None)-(:TranscriptionalActivation)->(:None)', '(:None)-(:TranscriptionalInhibition)->(:None)', '(:None)-(:TranscriptionalInhibition)->(:None)', '(:None)-(:TranscriptionalInhibition)->(:None)', '(:functional cluster)-(:TranscriptionalInhibition)->(:functional cluster)', '(:functional cluster)-(:TranscriptionalInhibition)->(:functional cluster)', '(:functional cluster)-(:TranscriptionalInhibition)->(:functional cluster)', '(:functional cluster)-(:TranscriptionalInhibition)->(:functional cluster)', '(:functional cluster)-(:TranscriptionalInhibition)->(:functional cluster)', '(:None)-(:TranscriptionalInhibition)->(:None)', '(:None)-(:TranscriptionalInhibition)->(:None)', generate a Cypher query using one of these combinations. Only return the query, without any additional text, symbols or characters --- just the query statement."
      ],
      "text/plain": [
       "<IPython.core.display.HTML object>"
      ]
     },
     "execution_count": 66,
     "metadata": {},
     "output_type": "execute_result"
    }
   ],
   "source": [
    "question = 'What proteins regulate MYC2 transcription?'\n",
    "kg_prompt = prompt_engine.generate_query_prompt(question)\n",
    "HTML(kg_prompt)"
   ]
  },
  {
   "cell_type": "code",
   "execution_count": 67,
   "id": "13428e56",
   "metadata": {},
   "outputs": [
    {
     "name": "stderr",
     "output_type": "stream",
     "text": [
      "content='' additional_kwargs={'tool_calls': [{'id': 'call_QVSWJ0g5wCiAOQ4tbDLQhrgX', 'function': {'a ...\n",
      "content='{\"query\": \"MATCH (regulator)-[:TranscriptionalActivation]->(target:Gene {name: \\'MYC2\\'}) R ...\n",
      "content='' additional_kwargs={'tool_calls': [{'id': 'call_U5Ioj1hhzPu6vS9HdswGptuR', 'function': {'a ...\n",
      "content='{\"query\": \"MATCH (regulator)-[:RegulatesTranscription]->(target:Gene {name: \\'MYC2\\'}) RETU ...\n",
      "content='' additional_kwargs={'tool_calls': [{'id': 'call_abCXIbWPiyPQTg2WIpEyuLbS', 'function': {'a ...\n",
      "content='{\"query\": \"MATCH (regulator)-[:RegulatesTranscription]->(target:Gene {name: \\'MYC2\\'}) RETU ...\n",
      "content='' additional_kwargs={'tool_calls': [{'id': 'call_TshbWFbJTmSAaUmRcjKtL329', 'function': {'a ...\n",
      "content='{\"query\": \"MATCH (regulator)-[:RegulatesTranscription]->(target:Gene {name: \\'MYC2\\'}) RETU ...\n",
      "content='' additional_kwargs={'tool_calls': [{'id': 'call_oSJzCJ6htGIixoLS6G6z3RnZ', 'function': {'a ...\n",
      "content='{\"query\": \"MATCH (regulator)-[:RegulatesTranscription]->(target:Gene {name: \\'MYC2\\'}) RETU ...\n",
      "content='' additional_kwargs={'tool_calls': [{'id': 'call_k9Y7jQktDB8OHctV2ZwO4J7o', 'function': {'a ...\n",
      "content='{\"query\": \"MATCH (regulator)-[:RegulatesTranscription]->(target:Gene {name: \\'MYC2\\'}) RETU ...\n",
      "content='' additional_kwargs={'tool_calls': [{'id': 'call_4TzQ2hMdvDfftqEqsdS4gbhv', 'function': {'a ...\n",
      "content='{\"query\": \"MATCH (regulator)-[:RegulatesTranscription]->(target:Gene {name: \\'MYC2\\'}) RETU ...\n",
      "content='' additional_kwargs={'tool_calls': [{'id': 'call_WgdnkPR9KP23Rjj7aJqomtHh', 'function': {'a ...\n",
      "content='{\"query\": \"MATCH (regulator)-[:RegulatesTranscription]->(target:Gene {name: \\'MYC2\\'}) RETU ...\n",
      "content='' additional_kwargs={'tool_calls': [{'id': 'call_a7zIhP711cHqQXXTNuZ9mNEQ', 'function': {'a ...\n",
      "content='{\"query\": \"MATCH (regulator)-[:RegulatesTranscription]->(target:Gene {name: \\'MYC2\\'}) RETU ...\n",
      "content='' additional_kwargs={'tool_calls': [{'id': 'call_npQdJ1YhZg5PMEQBbb0DPe3b', 'function': {'a ...\n",
      "content='{\"query\": \"MATCH (regulator)-[:RegulatesTranscription]->(target:Gene {name: \\'MYC2\\'}) RETU ...\n",
      "content='' additional_kwargs={'tool_calls': [{'id': 'call_NfeMWl9NUHAD18RMut2hUYVE', 'function': {'a ...\n"
     ]
    },
    {
     "data": {
      "text/html": [
       "<div style=\"padding: 5px; border: 1px solid black;\"><h4>Cypher code:</h4><code style=\"background-color: #AAAAAA; padding: 5px;\">MATCH (regulator)-[:RegulatesTranscription]->(target:Gene {name: 'MYC2'}) RETURN regulator.name LIMIT 30</code><br><h4>KG result:</h4><p style=\"color:green; \">[]</p></div>"
      ],
      "text/plain": [
       "<IPython.core.display.HTML object>"
      ]
     },
     "execution_count": 67,
     "metadata": {},
     "output_type": "execute_result"
    }
   ],
   "source": [
    "cypher_query = agent.execute(question, kg_prompt)\n",
    "print_cypher_and_answer(cypher_query)"
   ]
  },
  {
   "cell_type": "markdown",
   "id": "5626234a-440d-4aad-8d7f-d8b53e4f5562",
   "metadata": {
    "jp-MarkdownHeadingCollapsed": true
   },
   "source": [
    "### What proteins regulate negatively MYC2 transcription?"
   ]
  },
  {
   "cell_type": "code",
   "execution_count": 25,
   "id": "22b6ad21",
   "metadata": {},
   "outputs": [
    {
     "data": {
      "text/html": [
       "Generate a database query in Cypher that answers the user's question. You can use the following entities: ['FunctionalCluster', 'Gene', 'FunctionalCluster', 'Gene', 'Gene', 'Gene', 'BiologicalProcess'], relationships: ['GeneToFunctionalCluster', 'TranscriptionalActivation', 'TranscriptionalInhibition'], and properties: {'Gene': {'name': None, 'description': None, 'synonyms': None, 'gomapman_annotations': None, 'species': None, 'taxon': None, 'type': None, 'url': None, 'tair': None}, 'TranscriptionalInhibition': {'reaction_identifier': None, 'url': None, 'references': None, 'causal_mechanism': None}}. Given the following valid combinations of source, relationship, and target: '(:None)-(:GeneToFunctionalCluster)->(:None)', '(:None)-(:GeneToFunctionalCluster)->(:None)', '(:None)-(:GeneToFunctionalCluster)->(:None)', '(:None)-(:GeneToFunctionalCluster)->(:None)', '(:None)-(:TranscriptionalActivation)->(:None)', '(:None)-(:TranscriptionalActivation)->(:None)', '(:None)-(:TranscriptionalInhibition)->(:None)', '(:None)-(:TranscriptionalInhibition)->(:None)', generate a Cypher query using one of these combinations. Only return the query, without any additional text, symbols or characters --- just the query statement."
      ],
      "text/plain": [
       "<IPython.core.display.HTML object>"
      ]
     },
     "execution_count": 25,
     "metadata": {},
     "output_type": "execute_result"
    }
   ],
   "source": [
    "question = 'What proteins regulate negatively MYC2 transcription?'\n",
    "kg_prompt = prompt_engine.generate_query_prompt(question)\n",
    "HTML(kg_prompt)"
   ]
  },
  {
   "cell_type": "code",
   "execution_count": 26,
   "id": "26b1537c",
   "metadata": {},
   "outputs": [
    {
     "name": "stderr",
     "output_type": "stream",
     "text": [
      "content='' additional_kwargs={'tool_calls': [{'id': 'call_O46TMD1C9qPAPQvsy7KpOCnr', 'function': {'a ...\n",
      "content='{\"query\": \"MATCH (g:Gene)-[:TranscriptionalInhibition]->(t:Gene) WHERE t.name = \\'MYC2\\' RE ...\n",
      "content='' additional_kwargs={'tool_calls': [{'id': 'call_v0fdqWkd1oQUNfX7D50LlaMx', 'function': {'a ...\n"
     ]
    },
    {
     "data": {
      "text/html": [
       "<div style=\"padding: 5px; border: 1px solid black;\"><h4>Cypher code:</h4><code style=\"background-color: #AAAAAA; padding: 5px;\">MATCH (g:Gene)-[:TranscriptionalInhibition]->(t:Gene) WHERE t.name = 'MYC2' RETURN g.name</code><br><h4>KG result:</h4><p style=\"color:green; \">[]</p></div>"
      ],
      "text/plain": [
       "<IPython.core.display.HTML object>"
      ]
     },
     "execution_count": 26,
     "metadata": {},
     "output_type": "execute_result"
    }
   ],
   "source": [
    "cypher_query = agent.execute(question, kg_prompt)\n",
    "print_cypher_and_answer(cypher_query)"
   ]
  },
  {
   "cell_type": "markdown",
   "id": "99548046-77f3-490a-9073-d5dd77fcae7e",
   "metadata": {},
   "source": [
    "# Interact with response"
   ]
  },
  {
   "cell_type": "code",
   "execution_count": 26,
   "id": "41fd7da6-5241-434a-8d71-58241e3f394c",
   "metadata": {},
   "outputs": [],
   "source": [
    "relationships = {\n",
    "    'GeneBelongsToFunctionalCluster': {'source': 'functional cluster', 'target': 'gene'},\n",
    "    'TranscriptionalInhibition':  {'source': 'functional cluster', 'target': 'functional cluster'},\n",
    "    'TranscriptionalActivation':  {'source': 'functional cluster', 'target': 'functional cluster'} \n",
    "}\n",
    "entities = [\"Gene\", \"FunctionalCluster\"]\n",
    "\n",
    "properties = {\"Gene\": [\"tair\"], \"FunctionalCluster\":[\"name\"]}"
   ]
  },
  {
   "cell_type": "markdown",
   "id": "5ef1e397-31ec-496b-85d9-3b2f39a8a1b5",
   "metadata": {},
   "source": [
    "### What proteins regulate negatively ORA59 transcription?"
   ]
  },
  {
   "cell_type": "code",
   "execution_count": 56,
   "id": "30ed6d56-85d3-4897-8fa1-97234a16b6e0",
   "metadata": {},
   "outputs": [],
   "source": [
    "question = 'What proteins negatively regulate ORA59 transcription?'\n",
    "conversation = create_conversation()"
   ]
  },
  {
   "cell_type": "code",
   "execution_count": 64,
   "id": "1fd1d998",
   "metadata": {},
   "outputs": [
    {
     "data": {
      "text/html": [
       "Generate a database query in Cypher that answers the user's question. You can use the following entities: ['FunctionalCluster', 'Gene', 'FunctionalCluster', 'Gene', 'Gene', 'Gene', 'BiologicalProcess', 'Gene', 'Gene'], relationships: ['GeneToFunctionalCluster', 'TranscriptionalActivation', 'TranscriptionalInhibition'], and properties: {'Gene': {'name': None, 'description': None, 'synonyms': None, 'gomapman_annotations': None, 'species': None, 'taxon': None, 'type': None, 'url': None, 'tair': None}, 'TranscriptionalInhibition': {'reaction_identifier': None, 'url': None, 'references': None, 'causal_mechanism': None}}. Given the following valid combinations of source, relationship, and target: '(:None)-(:GeneToFunctionalCluster)->(:None)', '(:None)-(:GeneToFunctionalCluster)->(:None)', '(:None)-(:GeneToFunctionalCluster)->(:None)', '(:None)-(:GeneToFunctionalCluster)->(:None)', '(:None)-(:GeneToFunctionalCluster)->(:None)', '(:functional cluster)-(:GeneToFunctionalCluster)->(:gene)', '(:functional cluster)-(:GeneToFunctionalCluster)->(:gene)', '(:functional cluster)-(:GeneToFunctionalCluster)->(:gene)', '(:functional cluster)-(:GeneToFunctionalCluster)->(:gene)', '(:functional cluster)-(:GeneToFunctionalCluster)->(:gene)', '(:None)-(:GeneToFunctionalCluster)->(:None)', '(:None)-(:TranscriptionalActivation)->(:None)', '(:None)-(:TranscriptionalActivation)->(:None)', '(:None)-(:TranscriptionalActivation)->(:None)', '(:functional cluster)-(:TranscriptionalActivation)->(:functional cluster)', '(:functional cluster)-(:TranscriptionalActivation)->(:functional cluster)', '(:functional cluster)-(:TranscriptionalActivation)->(:functional cluster)', '(:functional cluster)-(:TranscriptionalActivation)->(:functional cluster)', '(:functional cluster)-(:TranscriptionalActivation)->(:functional cluster)', '(:None)-(:TranscriptionalActivation)->(:None)', '(:None)-(:TranscriptionalInhibition)->(:None)', '(:None)-(:TranscriptionalInhibition)->(:None)', '(:None)-(:TranscriptionalInhibition)->(:None)', '(:functional cluster)-(:TranscriptionalInhibition)->(:functional cluster)', '(:functional cluster)-(:TranscriptionalInhibition)->(:functional cluster)', '(:functional cluster)-(:TranscriptionalInhibition)->(:functional cluster)', '(:functional cluster)-(:TranscriptionalInhibition)->(:functional cluster)', '(:functional cluster)-(:TranscriptionalInhibition)->(:functional cluster)', '(:None)-(:TranscriptionalInhibition)->(:None)', generate a Cypher query using one of these combinations. Only return the query, without any additional text, symbols or characters --- just the query statement."
      ],
      "text/plain": [
       "<IPython.core.display.HTML object>"
      ]
     },
     "execution_count": 64,
     "metadata": {},
     "output_type": "execute_result"
    }
   ],
   "source": [
    "kg_prompt = prompt_engine.generate_query_prompt(question)\n",
    "HTML(kg_prompt)"
   ]
  },
  {
   "cell_type": "code",
   "execution_count": 65,
   "id": "948742b0",
   "metadata": {
    "scrolled": true
   },
   "outputs": [
    {
     "name": "stderr",
     "output_type": "stream",
     "text": [
      "content='' additional_kwargs={'tool_calls': [{'id': 'call_SkRnnRJ4JBj88w3s8sKucYhV', 'function': {'a ...\n",
      "content='{\"query\": \"MATCH (g:Gene)-[:TranscriptionalInhibition]->(:FunctionalCluster {name: \\'ORA59\\ ...\n",
      "content='' additional_kwargs={'tool_calls': [{'id': 'call_Uq9JWHOfPCThOoWwzcv7ugVJ', 'function': {'a ...\n",
      "content='{\"query\": \"MATCH (g:Gene)-[:TranscriptionalInhibition]->(f:FunctionalCluster) WHERE f.name  ...\n",
      "content='' additional_kwargs={'tool_calls': [{'id': 'call_zrlLFRzPgr1sOGRfMa1ZcXUF', 'function': {'a ...\n",
      "content='{\"query\": \"MATCH (g:Gene)-[:TranscriptionalRegulation]->(f:FunctionalCluster) WHERE f.name  ...\n",
      "content='' additional_kwargs={'tool_calls': [{'id': 'call_4UZVBkQaR5ayJD6v8veGBxBB', 'function': {'a ...\n",
      "content='{\"query\": \"MATCH (g:Gene)-[:Regulates]->(f:FunctionalCluster {name: \\'ORA59\\'}) RETURN g.na ...\n",
      "content='' additional_kwargs={'tool_calls': [{'id': 'call_Je2JaK5zgNaJSZMwkHOaxgUD', 'function': {'a ...\n",
      "content='{\"query\": \"MATCH (g:Protein)-[:Interacts_With]->(g:Gene)-[:TranscriptionalRegulation]->(f:F ...\n",
      "content='' additional_kwargs={'tool_calls': [{'id': 'call_fUzKOk8gQ5Mx8fqypq4eCvWE', 'function': {'a ...\n",
      "content='{\"query\": \"MATCH (p:Protein)-[:Interacts_With]->(g:Gene)-[:TranscriptionalRegulation]->(f:F ...\n",
      "content='' additional_kwargs={'tool_calls': [{'id': 'call_iuxb44CMzIbM42Dih2KpIC1I', 'function': {'a ...\n",
      "content='{\"query\": \"MATCH (p:Protein)-[:Interacts_With]->(g:Gene)-[:TranscriptionalRegulation]->(f:F ...\n",
      "content='' additional_kwargs={'tool_calls': [{'id': 'call_QVa70igxtzPe5LXZGhp54lLG', 'function': {'a ...\n",
      "content='{\"query\": \"MATCH (p:Protein)-[:Interacts_With]->(g:Gene)-[:TranscriptionalRegulation]->(f:F ...\n",
      "content='' additional_kwargs={'tool_calls': [{'id': 'call_FBZXNbs3Pjd7M4XuadshVYfD', 'function': {'a ...\n",
      "content='{\"query\": \"MATCH (p:Protein)-[:Interacts_With]->(g:Gene)-[:TranscriptionalRegulation]->(f:F ...\n",
      "content='' additional_kwargs={'tool_calls': [{'id': 'call_8gYE10GGDRaECd6zJh9c22BC', 'function': {'a ...\n",
      "content='{\"query\": \"MATCH (p:Protein)-[:Interacts_With]->(g:Gene)-[:TranscriptionalRegulation]->(f:F ...\n",
      "content='' additional_kwargs={'tool_calls': [{'id': 'call_Dq9lMO2OtBEALTq8KpcLE2TQ', 'function': {'a ...\n"
     ]
    },
    {
     "data": {
      "text/html": [
       "<div style=\"padding: 5px; border: 1px solid black;\"><h4>Cypher code:</h4><code style=\"background-color: #AAAAAA; padding: 5px;\">MATCH (g:Gene)-[:TranscriptionalInhibition]->(f:FunctionalCluster) WHERE f.name = 'ORA59' RETURN g.name</code><br><h4>KG result:</h4><p style=\"color:green; \">[]</p></div>"
      ],
      "text/plain": [
       "<IPython.core.display.HTML object>"
      ]
     },
     "execution_count": 65,
     "metadata": {},
     "output_type": "execute_result"
    }
   ],
   "source": [
    "cypher_query = agent.execute(question, kg_prompt)\n",
    "print_cypher_and_answer(cypher_query)"
   ]
  },
  {
   "cell_type": "code",
   "execution_count": 63,
   "id": "10c1c137-587b-49d0-b3a0-1a9a4f078a82",
   "metadata": {},
   "outputs": [
    {
     "name": "stdout",
     "output_type": "stream",
     "text": [
      "MATCH (:Gene)-[:TranscriptionalInhibition]->(:Gene {tair: \"ORA59\"}) RETURN DISTINCT Gene;\n"
     ]
    }
   ],
   "source": [
    "query = prompt_engine._generate_query(\n",
    "    question=question,\n",
    "    entities=entities,\n",
    "    relationships=relationships,\n",
    "    properties=properties,\n",
    "    query_language=\"Cypher\",\n",
    "    conversation=conversation\n",
    ")\n",
    "print(query)"
   ]
  },
  {
   "cell_type": "code",
   "execution_count": 59,
   "id": "16a49e12-21e2-4dc4-8f13-9c6b13b5e186",
   "metadata": {},
   "outputs": [],
   "source": [
    "query_handler = BioCypherQueryHandler(\n",
    "    query=query,\n",
    "    query_lang=\"Cypher\",\n",
    "    kg_selected={\n",
    "        'entities': [\"Gene\", \"FunctionalCluster\"],\n",
    "        'relationships': relationships,\n",
    "        'properties': {\"Gene\": [\"tair\"]}\n",
    "    },\n",
    "    question=question\n",
    ")"
   ]
  },
  {
   "cell_type": "code",
   "execution_count": 60,
   "id": "9152b7c9-9f67-4c35-bdf6-620382a559ff",
   "metadata": {},
   "outputs": [
    {
     "name": "stdout",
     "output_type": "stream",
     "text": [
      "This query matches genes that are connected to ORA59 through a TranscriptionalInhibition relationship and returns the distinct genes that negatively regulate ORA59 transcription.\n"
     ]
    }
   ],
   "source": [
    "explanation = query_handler.explain_query()\n",
    "print(explanation)"
   ]
  },
  {
   "cell_type": "code",
   "execution_count": 61,
   "id": "fa2b7909-1705-4c49-a255-0feb74f0611d",
   "metadata": {},
   "outputs": [
    {
     "name": "stdout",
     "output_type": "stream",
     "text": [
      "MATCH (g:Gene)-[:TranscriptionalInhibition]->(:Gene {tair: \"ORA59\"}) \n",
      "RETURN DISTINCT g.tair;\n"
     ]
    }
   ],
   "source": [
    "request_update = \"The result should be a list of tair identifiers.\"\n",
    "new_query = query_handler.update_query(request_update)\n",
    "print(new_query)"
   ]
  },
  {
   "cell_type": "code",
   "execution_count": 62,
   "id": "ac57cd59",
   "metadata": {},
   "outputs": [
    {
     "name": "stdout",
     "output_type": "stream",
     "text": [
      "This query matches genes that are connected to ORA59 through a TranscriptionalInhibition relationship and returns the distinct genes that negatively regulate ORA59 transcription.\n"
     ]
    }
   ],
   "source": [
    "explanation = query_handler.explain_query()\n",
    "print(explanation)"
   ]
  },
  {
   "cell_type": "markdown",
   "id": "3a12712d-49a8-4806-b253-35ba675adbf5",
   "metadata": {},
   "source": [
    "### Which genes does MYC2 transcriptionally regulate?"
   ]
  },
  {
   "cell_type": "code",
   "execution_count": 21,
   "id": "899389cc-ef51-4bd4-8dec-8dfb23c9a504",
   "metadata": {},
   "outputs": [],
   "source": [
    "question = \"Which nodes does MYC2 transcriptionally regulate?\"\n",
    "conversation = create_conversation()"
   ]
  },
  {
   "cell_type": "code",
   "execution_count": 22,
   "id": "04a9628a-50dd-4dc4-a0f2-984e12168302",
   "metadata": {},
   "outputs": [
    {
     "name": "stdout",
     "output_type": "stream",
     "text": [
      "MATCH (fc1:FunctionalCluster)-[:TranscriptionalActivation|:TranscriptionalInhibition]->(fc2:FunctionalCluster)\n",
      "WHERE fc1.name = 'MYC2'\n",
      "RETURN fc2\n"
     ]
    }
   ],
   "source": [
    "query = prompt_engine._generate_query(\n",
    "    question=question,\n",
    "    entities=entities,\n",
    "    relationships=relationships,\n",
    "    properties=properties,\n",
    "    query_language=\"Cypher\",\n",
    "    conversation=conversation\n",
    ")\n",
    "print(query)"
   ]
  },
  {
   "cell_type": "code",
   "execution_count": 27,
   "id": "8e4f5a73",
   "metadata": {},
   "outputs": [],
   "source": [
    "question = \"Which nodes does AT1G32640 transcriptionally regulate?\"\n",
    "conversation = create_conversation()"
   ]
  },
  {
   "cell_type": "code",
   "execution_count": 28,
   "id": "0c9225ec",
   "metadata": {},
   "outputs": [
    {
     "name": "stdout",
     "output_type": "stream",
     "text": [
      "MATCH (g:Gene {tair: 'AT1G32640'})-[:GeneBelongsToFunctionalCluster]->(fc:FunctionalCluster)-[:TranscriptionalActivation|:TranscriptionalInhibition]->(targetFC:FunctionalCluster)<-[:GeneBelongsToFunctionalCluster]-(targetGene:Gene)\n",
      "RETURN targetGene\n"
     ]
    }
   ],
   "source": [
    "query = prompt_engine._generate_query(\n",
    "    question=question,\n",
    "    entities=entities,\n",
    "    relationships=relationships,\n",
    "    properties=properties,\n",
    "    query_language=\"Cypher\",\n",
    "    conversation=conversation\n",
    ")\n",
    "print(query)"
   ]
  },
  {
   "cell_type": "code",
   "execution_count": 27,
   "id": "5b10b1a5",
   "metadata": {},
   "outputs": [],
   "source": [
    "question = \"Which nodes does AT1G32640 transcriptionally regulate?\"\n",
    "conversation = create_conversation()"
   ]
  },
  {
   "cell_type": "code",
   "execution_count": 28,
   "id": "b0336081",
   "metadata": {},
   "outputs": [
    {
     "name": "stdout",
     "output_type": "stream",
     "text": [
      "MATCH (g:Gene {tair: 'AT1G32640'})-[:GeneBelongsToFunctionalCluster]->(fc:FunctionalCluster)-[:TranscriptionalActivation|:TranscriptionalInhibition]->(targetFC:FunctionalCluster)<-[:GeneBelongsToFunctionalCluster]-(targetGene:Gene)\n",
      "RETURN targetGene\n"
     ]
    }
   ],
   "source": [
    "query = prompt_engine._generate_query(\n",
    "    question=question,\n",
    "    entities=entities,\n",
    "    relationships=relationships,\n",
    "    properties=properties,\n",
    "    query_language=\"Cypher\",\n",
    "    conversation=conversation\n",
    ")\n",
    "print(query)"
   ]
  },
  {
   "cell_type": "code",
   "execution_count": null,
   "id": "da2d40bf-4d57-4673-9ea9-92bbc7b51863",
   "metadata": {},
   "outputs": [],
   "source": []
  },
  {
   "cell_type": "code",
   "execution_count": null,
   "id": "868d0217-6dfa-4707-8c43-c96209f7c4c7",
   "metadata": {},
   "outputs": [],
   "source": []
  },
  {
   "cell_type": "code",
   "execution_count": null,
   "id": "b30a7d58-5bdf-48db-a09c-7e7ad9a517ad",
   "metadata": {},
   "outputs": [],
   "source": []
  },
  {
   "cell_type": "code",
   "execution_count": 23,
   "id": "ffa4c67b-7764-46fb-916a-426de9e80f2f",
   "metadata": {},
   "outputs": [],
   "source": [
    "query_handler = BioCypherQueryHandler(\n",
    "    query=query,\n",
    "    query_lang=\"Cypher\",\n",
    "    kg_selected={\n",
    "        'entities': [\"Gene\", \"FunctionalCluster\"],\n",
    "        'relationships': relationships,\n",
    "        'properties': {\"Gene\": [\"tair\"]}\n",
    "    },\n",
    "    question=question\n",
    ")"
   ]
  },
  {
   "cell_type": "code",
   "execution_count": 18,
   "id": "a8e7dfe3-ad4c-4c4f-a51b-45ae5695558d",
   "metadata": {},
   "outputs": [
    {
     "name": "stdout",
     "output_type": "stream",
     "text": [
      "MATCH (g:Gene {database: 'tair'})-[:GeneToFunctionalCluster]->(fc:FunctionalCluster)\n",
      "WHERE fc.name = \"MYC2\"\n",
      "RETURN g, fc\n"
     ]
    }
   ],
   "source": [
    "request_update = \"\"\"\n",
    "First find the functional cluster the gene belongs. \n",
    "\"\"\"\n",
    "new_query = query_handler.update_query(request_update)\n",
    "print(new_query)"
   ]
  },
  {
   "cell_type": "code",
   "execution_count": 26,
   "id": "aa57923c-3266-4bc9-9a9e-3faf95674db1",
   "metadata": {},
   "outputs": [
    {
     "data": {
      "text/plain": [
       "'This query retrieves genes that are transcriptionally activated by the functional cluster named \"MYC2\".'"
      ]
     },
     "execution_count": 26,
     "metadata": {},
     "output_type": "execute_result"
    }
   ],
   "source": [
    "query_handler.explain_query()"
   ]
  },
  {
   "cell_type": "code",
   "execution_count": null,
   "id": "f5f87d68-1fb7-49f9-9c00-098d39e16525",
   "metadata": {},
   "outputs": [],
   "source": []
  }
 ],
 "metadata": {
  "kernelspec": {
   "display_name": "Python 3 (ipykernel)",
   "language": "python",
   "name": "python3"
  },
  "language_info": {
   "codemirror_mode": {
    "name": "ipython",
    "version": 3
   },
   "file_extension": ".py",
   "mimetype": "text/x-python",
   "name": "python",
   "nbconvert_exporter": "python",
   "pygments_lexer": "ipython3",
   "version": "3.10.13"
  }
 },
 "nbformat": 4,
 "nbformat_minor": 5
}
